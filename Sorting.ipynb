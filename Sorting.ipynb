{
 "cells": [
  {
   "cell_type": "markdown",
   "metadata": {},
   "source": [
    "# SEARCH FUNCTION"
   ]
  },
  {
   "cell_type": "code",
   "execution_count": 2,
   "metadata": {},
   "outputs": [
    {
     "name": "stdout",
     "output_type": "stream",
     "text": [
      "2\n"
     ]
    }
   ],
   "source": [
    "# Linear search \n",
    "\n",
    "def linearSearch(A,k):\n",
    "\n",
    "    n = len(A)\n",
    "    i = 0\n",
    "\n",
    "    while i < n and k != A[i]:\n",
    "        i += 1\n",
    "\n",
    "    if i < n:\n",
    "        return i\n",
    "    else:\n",
    "        return -1\n",
    "\n",
    "a = [10,2,67,4,90,18,-100]\n",
    "\n",
    "print(linearSearch(a, 67))"
   ]
  },
  {
   "cell_type": "markdown",
   "metadata": {},
   "source": [
    "## BINARY SEARCH\n"
   ]
  },
  {
   "cell_type": "code",
   "execution_count": 1,
   "metadata": {},
   "outputs": [
    {
     "data": {
      "text/plain": [
       "'90 found at position 5'"
      ]
     },
     "execution_count": 1,
     "metadata": {},
     "output_type": "execute_result"
    }
   ],
   "source": [
    "def bsearch (array,k):\n",
    "\n",
    "    lower = 0\n",
    "    upper = len(array) - 1\n",
    "\n",
    "    while lower < upper:\n",
    "        middle = (lower + upper)//2\n",
    "        middleValue = array[middle]\n",
    "\n",
    "        if middleValue == k:\n",
    "            return f'{k} found at position {middle}'\n",
    "        if middleValue > k:\n",
    "            upper = middle - 1\n",
    "        else:\n",
    "            lower = middle + 1\n",
    "        \n",
    "A = [1,3,4,6,8,90,100,149]\n",
    "bsearch(A,90)"
   ]
  },
  {
   "cell_type": "markdown",
   "metadata": {},
   "source": [
    "# BUBBLE SORT"
   ]
  },
  {
   "cell_type": "code",
   "execution_count": 1,
   "metadata": {},
   "outputs": [
    {
     "data": {
      "text/plain": [
       "[-3, 1, 4, 5, 1000, 6897]"
      ]
     },
     "execution_count": 1,
     "metadata": {},
     "output_type": "execute_result"
    }
   ],
   "source": [
    "def bubble_sort(arr):\n",
    "    n = len(arr)\n",
    "    swap =True\n",
    "\n",
    "    while swap:\n",
    "        swap = False\n",
    "        for i in range(1,n):\n",
    "            if arr[i-1] > arr[i]:\n",
    "                swap = True\n",
    "                arr[i-1], arr[i] = arr[i], arr[i-1]\n",
    "    return arr\n",
    "\n",
    "num = [1000,4,6897,1,-3,5]\n",
    "bubble_sort(num)"
   ]
  },
  {
   "cell_type": "code",
   "execution_count": 3,
   "metadata": {},
   "outputs": [
    {
     "data": {
      "text/plain": [
       "[0, 2, 3, 6, 9, 20, 500]"
      ]
     },
     "execution_count": 3,
     "metadata": {},
     "output_type": "execute_result"
    }
   ],
   "source": [
    "def burble_sort(array):\n",
    "    for i in range(len(array)-1, 0, -1):\n",
    "        for j in range(i):\n",
    "            if array[j] > array[j+1]:\n",
    "                array[j], array[j+1] = array[j+1], array[j]\n",
    "\n",
    "    return array\n",
    "\n",
    "\n",
    "A = [2,6,3,9,0,20,500]\n",
    "burble_sort(A)"
   ]
  },
  {
   "cell_type": "markdown",
   "metadata": {},
   "source": [
    "## SELECTION SORT"
   ]
  },
  {
   "cell_type": "code",
   "execution_count": 11,
   "metadata": {},
   "outputs": [
    {
     "data": {
      "text/plain": [
       "[0, 1, 2, 55, 67, 90, 490]"
      ]
     },
     "execution_count": 11,
     "metadata": {},
     "output_type": "execute_result"
    }
   ],
   "source": [
    "def selection_sort(array):\n",
    "\n",
    "    for i in range(0,len(array)-1):\n",
    "        minposition = i\n",
    "\n",
    "        for j in range(i+1,len(array)):\n",
    "            if array[j] < array[minposition]:\n",
    "                minposition = j\n",
    "        \n",
    "        if minposition != i:\n",
    "            array[i], array[minposition] = array[minposition], array[i]\n",
    "    return array\n",
    "\n",
    "A =[67,1,490,2,0,90,55]\n",
    "\n",
    "selection_sort(A)\n",
    "\n"
   ]
  },
  {
   "cell_type": "markdown",
   "metadata": {},
   "source": [
    "## INSERTION SORT"
   ]
  },
  {
   "cell_type": "code",
   "execution_count": 1,
   "metadata": {},
   "outputs": [
    {
     "data": {
      "text/plain": [
       "[0, 2, 3, 5, 6, 7, 8, 9]"
      ]
     },
     "execution_count": 1,
     "metadata": {},
     "output_type": "execute_result"
    }
   ],
   "source": [
    "def insertion_sort(arr):\n",
    "\n",
    "    n = len(arr)\n",
    "\n",
    "    for i in range(1,n):\n",
    "        for j in range(i,0,-1):\n",
    "            if arr[j-1] > arr[j]:\n",
    "                arr[j-1],arr[j] = arr[j],arr[j-1]\n",
    "\n",
    "    return arr\n",
    "\n",
    "\n",
    "A = [3,6,2,0,5,8,7,9]\n",
    "insertion_sort(A)"
   ]
  },
  {
   "cell_type": "code",
   "execution_count": null,
   "metadata": {},
   "outputs": [
    {
     "data": {
      "text/plain": [
       "[2, 3]"
      ]
     },
     "execution_count": 3,
     "metadata": {},
     "output_type": "execute_result"
    }
   ],
   "source": [
    "def insertionSort(arr):\n",
    "    \n",
    "    n = len(arr)\n",
    "\n",
    "    for i in range(1,n):\n",
    "        newpos = i\n",
    "        while newpos > 0 and arr[newpos] < arr[newpos-1]:\n",
    "            arr[newpos],arr[newpos-1] = arr[newpos-1], arr[newpos]\n",
    "            newpos = newpos-1\n",
    "\n",
    "    return arr\n",
    "\n",
    "# A = [3,6,2,0,5,8,7,9]\n",
    "# insertionSort(A)\n",
    "\n",
    "B = [3,2]\n",
    "insertionSort(B)"
   ]
  },
  {
   "cell_type": "markdown",
   "metadata": {},
   "source": [
    "# MERGE SORT"
   ]
  },
  {
   "cell_type": "code",
   "execution_count": 4,
   "metadata": {},
   "outputs": [
    {
     "name": "stdout",
     "output_type": "stream",
     "text": [
      "[0, 2, 3, 3, 5, 6, 7, 8, 9]\n"
     ]
    }
   ],
   "source": [
    "def mergeSort(a):\n",
    "    if len(a) >= 2:\n",
    "        n = len(a)\n",
    "\n",
    "        left = a[:n//2]\n",
    "        right = a[n//2:]\n",
    "\n",
    "        mergeSort(left)\n",
    "        mergeSort(right)\n",
    "\n",
    "        merge(a,left,right)\n",
    "    return a\n",
    "\n",
    "def merge(result,left,right):\n",
    "    i1 = 0\n",
    "    i2 = 0\n",
    "\n",
    "    for i in range(len(result)):\n",
    "        if i2 >= len(right) or (i1 < len(left) and left[i1] <= right[i2]):\n",
    "            result[i] = left[i1]\n",
    "            i1 += 1\n",
    "        else:\n",
    "            result[i] = right[i2]\n",
    "            i2 += 1\n",
    "\n",
    "\n",
    "A = [3,6,2,0,5,8,7,9,3]\n",
    "print(mergeSort(A))\n"
   ]
  },
  {
   "cell_type": "markdown",
   "metadata": {},
   "source": [
    "## QUICK SORT"
   ]
  },
  {
   "cell_type": "code",
   "execution_count": 1,
   "metadata": {},
   "outputs": [
    {
     "name": "stdout",
     "output_type": "stream",
     "text": [
      "[-3000, -10, 1, 3, 4, 5, 7, 9, 29, 102]\n"
     ]
    }
   ],
   "source": [
    "def quick_sort(arr):\n",
    "\n",
    "    if len(arr) <= 1:\n",
    "        return arr\n",
    "    \n",
    "    n = len(arr)\n",
    "    pivot = arr[n // 2]\n",
    "\n",
    "    L = [x for x in arr if x < pivot]\n",
    "    R = [x for x in arr if x > pivot]\n",
    "\n",
    "    L = quick_sort(L)\n",
    "    R = quick_sort(R)\n",
    "\n",
    "    return L + [pivot] + R\n",
    "\n",
    "C = [9,5,1,3,7,-10,4,29,102,-3000]\n",
    "\n",
    "print(quick_sort(C))"
   ]
  },
  {
   "cell_type": "code",
   "execution_count": 2,
   "metadata": {},
   "outputs": [
    {
     "name": "stdout",
     "output_type": "stream",
     "text": [
      "The number of inversions = 13\n"
     ]
    }
   ],
   "source": [
    "lst = [2,23,5,6,4,7,12,3]\n",
    "inv =0\n",
    "for i in range(len(lst)):\n",
    "    for j in range(i+1, len(lst)):\n",
    "        if lst[i]>lst[j]:\n",
    "            inv = inv +1\n",
    "print(\"The number of inversions =\", inv)"
   ]
  },
  {
   "cell_type": "code",
   "execution_count": 3,
   "metadata": {},
   "outputs": [
    {
     "data": {
      "image/png": "[encoded data removed]",
      "text/plain": [
       "<Figure size 640x480 with 1 Axes>"
      ]
     },
     "metadata": {},
     "output_type": "display_data"
    }
   ],
   "source": [
    "import matplotlib.pyplot as plt\n",
    "import time\n",
    "import numpy as np\n",
    "\n",
    "def swap(lst, i, j):\n",
    "    \"\"\"Swaps elements at indices i and j in list lst\"\"\"\n",
    "    temp = lst[i]\n",
    "    lst[i] = lst[j]\n",
    "    lst[j] = temp\n",
    "    return lst\n",
    "\n",
    "#INSERTION SORT\n",
    "def insertion_sort(arr):\n",
    "    \"\"\"Sorts an array arr using insertion sort\"\"\"\n",
    "    n = len(arr)\n",
    "    for i in range(1, n):\n",
    "        for j in range(i, 0, -1):\n",
    "            if arr[j - 1] > arr[j]:\n",
    "                swap(arr, j - 1, j)\n",
    "    return arr\n",
    "\n",
    "#MERGE SORT\n",
    "def merge_sort(arr):\n",
    "    \"\"\"Sorts an array arr using merge sort\"\"\"\n",
    "    if len(arr) <= 1:\n",
    "        return arr\n",
    "\n",
    "    mid = len(arr) // 2\n",
    "    left_half = merge_sort(arr[:mid])\n",
    "    right_half = merge_sort(arr[mid:])\n",
    "\n",
    "    return merge(left_half, right_half)\n",
    "\n",
    "def merge(left, right):\n",
    "    \"\"\"Merges \n",
    " two sorted lists left and right\"\"\"\n",
    "    result = []\n",
    "    i1 = i2 = 0\n",
    "    while i1 < len(left) and i2 < len(right):\n",
    "        if left[i1] <= right[i2]:\n",
    "            result.append(left[i1])\n",
    "            i1 += 1\n",
    "        else:\n",
    "            result.append(right[i2])\n",
    "            i2 += 1\n",
    "    result.extend(left[i1:])\n",
    "    result.extend(right[i2:])\n",
    "    return result\n",
    "\n",
    "#QUICK SORT\n",
    "def quick_sort(arr):\n",
    "    \"\"\"Sorts an array arr using quick sort\"\"\"\n",
    "    if len(arr) <= 1:\n",
    "        return arr\n",
    "\n",
    "    n = len(arr)\n",
    "    pivot = arr[n // 2]\n",
    "    L = [x for x in arr if x < pivot]\n",
    "    R = [x for x in arr if x > pivot]\n",
    "    return quick_sort(L) + [pivot] + quick_sort(R)\n",
    "\n",
    "#SELECTION SORT\n",
    "def selection_sort(array):\n",
    "    \"\"\"Sorts an array array using selection sort\"\"\"\n",
    "    for i in range(0,len(array)-1):\n",
    "        minposition = i\n",
    "\n",
    "        for j in range(i+1,len(array)):\n",
    "            if array[j] < array[minposition]:\n",
    "                minposition = j\n",
    "        \n",
    "        if minposition != i:\n",
    "            array[i], array[minposition] = array[minposition], array[i]\n",
    "    return array\n",
    "\n",
    "#BUBBLE SORT\n",
    "def bubble_sort(array):\n",
    "    \"\"\"Sorts an array array using bubble sort\"\"\"\n",
    "    for i in range(len(array)-1, 0, -1):\n",
    "        for j in range(i):\n",
    "            if array[j] > array[j+1]:\n",
    "                array[j], array[j+1] = array[j+1], array[j]\n",
    "\n",
    "    return array\n",
    "\n",
    "sorts = [\n",
    "    {\n",
    "        \"name\": \"Insertion Sort\",\n",
    "        \"sort\": insertion_sort\n",
    "    },\n",
    "    {\n",
    "        \"name\": \"Merge Sort\",\n",
    "        \"sort\": merge_sort\n",
    "    },\n",
    "    {\n",
    "        \"name\": \"Quick Sort\",\n",
    "        \"sort\": quick_sort\n",
    "    },\n",
    "        {\n",
    "        \"name\": \"Selection Sort\",\n",
    "        \"sort\": selection_sort\n",
    "    },\n",
    "    {\n",
    "        \"name\": \"Bubble Sort\",\n",
    "        \"sort\": bubble_sort\n",
    "    }\n",
    "]\n",
    "\n",
    "elements = np.array([i * 1000 for i in range(1, 15)])\n",
    "\n",
    "plt.xlabel('Size of n')\n",
    "plt.ylabel('Time Complexity')\n",
    "\n",
    "for sort in sorts:\n",
    "    times = list()\n",
    "    start_all = time.time()\n",
    "    for i in range(1, 15):\n",
    "        start = time.time()\n",
    "        a = np.random.randint(1000, size=i * 1000)\n",
    "        sort[\"sort\"](a)\n",
    "        end = time.time()\n",
    "        times.append(end - start)\n",
    "    end_all = time.time()\n",
    "\n",
    "    plt.plot(elements, times, label=sort[\"name\"])\n",
    "\n",
    "plt.grid()\n",
    "plt.legend()\n",
    "plt.show()"
   ]
  }
 ],
 "metadata": {
  "kernelspec": {
   "display_name": "Python 3",
   "language": "python",
   "name": "python3"
  },
  "language_info": {
   "codemirror_mode": {
    "name": "ipython",
    "version": 3
   },
   "file_extension": ".py",
   "mimetype": "text/x-python",
   "name": "python",
   "nbconvert_exporter": "python",
   "pygments_lexer": "ipython3",
   "version": "3.11.3"
  }
 },
 "nbformat": 4,
 "nbformat_minor": 2
}
